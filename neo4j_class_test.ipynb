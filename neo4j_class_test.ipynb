{
 "cells": [
  {
   "cell_type": "code",
   "execution_count": 17,
   "metadata": {},
   "outputs": [],
   "source": [
    "from neo4j_helper_functions import Neo4jGitHub\n",
    "import os"
   ]
  },
  {
   "cell_type": "code",
   "execution_count": 18,
   "metadata": {},
   "outputs": [],
   "source": [
    "uri = \"neo4j+s://1b845d2a.databases.neo4j.io\"\n",
    "user = os.environ.get(\"NEO4J_USERNAME\")\n",
    "password = os.environ.get(\"NEO4J_PASSWORD\")\n",
    "neo4j_driver = Neo4jGitHub(uri, user, password)"
   ]
  },
  {
   "cell_type": "code",
   "execution_count": 19,
   "metadata": {},
   "outputs": [],
   "source": [
    "# Issue details\n",
    "owner = \"BigDataIA-Spring2023-Team-04\"\n",
    "repo_name = \"BigDataIA-Assignment-03\"\n",
    "issue_number = 6"
   ]
  },
  {
   "cell_type": "code",
   "execution_count": 20,
   "metadata": {},
   "outputs": [],
   "source": [
    "issue_description = (\n",
    "    \"Directory Structure: A proper directory structure can be maintained\"\n",
    ")\n",
    "issue_body = \"\"\"\n",
    "<img width=\"1430\" alt=\"Screenshot 2023-03-17 at 4 39 40 PM\" src=\"https://user-images.githubusercontent.com/114629181/226044692-5bdc443c-9f92-45de-b26e-30b5f4208154.png\">\n",
    "\n",
    "Expected Behavior:\n",
    "A simple directory structure to refer to codes easily and remember which piece of code is where without much hazzle.\n",
    "\n",
    "Current Behavior:\n",
    "The directory is not properly structured as finding the right files makes the application easier for everyone to use.\n",
    "\n",
    "Possible Solution:\n",
    "Restructuring the directory with appropriate file names and folder names.\n",
    "\n",
    "Steps to Reproduce:\n",
    "As shown in the image, you can make the changes to existing files and directories.\n",
    "\n",
    "Context (Environment):\n",
    "Code\n",
    "\n",
    "Detailed Description:\n",
    "An easy to understand directory structure allows easy testing and implementation of different applications.\n",
    "\n",
    "Possible Implementation:\n",
    "You can refer to our team's directory structure (link shared below) which made the unit testing easier for us. \n",
    "Link: https://github.com/BigDataIA-Spring2023-Team-05/Assignment-03\n",
    "\"\"\""
   ]
  },
  {
   "cell_type": "code",
   "execution_count": 21,
   "metadata": {},
   "outputs": [],
   "source": [
    "neo4j_driver.create_issue(owner, repo_name, issue_number, issue_description, issue_body)\n",
    "neo4j_driver.create_user(\"hindupurv\")\n",
    "neo4j_driver.create_user(\"KaranAgrawal1509\")\n",
    "neo4j_driver.create_user(\"LokeshwaranVenugopalBalamurugan\")\n",
    "neo4j_driver.create_user(\"SivaranjaniSuresh\")\n",
    "neo4j_driver.create_reaction(\"+1\")\n",
    "neo4j_driver.create_reaction(\"rocket\")\n",
    "neo4j_driver.create_label(\"enhancement\")\n",
    "neo4j_driver.create_milestone(\"Done\")"
   ]
  },
  {
   "cell_type": "code",
   "execution_count": 22,
   "metadata": {},
   "outputs": [],
   "source": [
    "neo4j_driver.create_issue_creator_relationship(\n",
    "    \"hindupurv\", \"BigDataIA-Spring2023-Team-04\", \"BigDataIA-Assignment-03\", 6\n",
    ")\n",
    "neo4j_driver.create_issue_assigner_relationship(\n",
    "    \"KaranAgrawal1509\",\n",
    "    \"KaranAgrawal1509\",\n",
    "    \"BigDataIA-Spring2023-Team-04\",\n",
    "    \"BigDataIA-Assignment-03\",\n",
    "    6,\n",
    ")\n",
    "neo4j_driver.create_issue_assigner_relationship(\n",
    "    \"KaranAgrawal1509\",\n",
    "    \"LokeshwaranVenugopalBalamurugan\",\n",
    "    \"BigDataIA-Spring2023-Team-04\",\n",
    "    \"BigDataIA-Assignment-03\",\n",
    "    6,\n",
    ")\n",
    "neo4j_driver.create_issue_assigner_relationship(\n",
    "    \"SivaranjaniSuresh\",\n",
    "    \"SivaranjaniSuresh\",\n",
    "    \"BigDataIA-Spring2023-Team-04\",\n",
    "    \"BigDataIA-Assignment-03\",\n",
    "    6,\n",
    ")\n",
    "neo4j_driver.user_reacted_on_issue(\n",
    "    \"KaranAgrawal1509\",\n",
    "    \"BigDataIA-Spring2023-Team-04\",\n",
    "    \"BigDataIA-Assignment-03\",\n",
    "    6,\n",
    "    \"+1\",\n",
    ")\n",
    "neo4j_driver.user_reacted_on_issue(\n",
    "    \"SivaranjaniSuresh\",\n",
    "    \"BigDataIA-Spring2023-Team-04\",\n",
    "    \"BigDataIA-Assignment-03\",\n",
    "    6,\n",
    "    \"rocket\",\n",
    ")\n",
    "neo4j_driver.user_added_milestone(\n",
    "    \"KaranAgrawal1509\",\n",
    "    \"BigDataIA-Spring2023-Team-04\",\n",
    "    \"BigDataIA-Assignment-03\",\n",
    "    6,\n",
    "    \"Done\",\n",
    ")\n",
    "neo4j_driver.issue_has_label(\n",
    "    \"BigDataIA-Spring2023-Team-04\", \"BigDataIA-Assignment-03\", 6, \"enhancement\"\n",
    ")"
   ]
  },
  {
   "cell_type": "code",
   "execution_count": null,
   "metadata": {},
   "outputs": [],
   "source": [
    "neo4j_driver.close()"
   ]
  }
 ],
 "metadata": {
  "kernelspec": {
   "display_name": "Python 3",
   "language": "python",
   "name": "python3"
  },
  "language_info": {
   "codemirror_mode": {
    "name": "ipython",
    "version": 3
   },
   "file_extension": ".py",
   "mimetype": "text/x-python",
   "name": "python",
   "nbconvert_exporter": "python",
   "pygments_lexer": "ipython3",
   "version": "3.10.0"
  },
  "orig_nbformat": 4
 },
 "nbformat": 4,
 "nbformat_minor": 2
}
