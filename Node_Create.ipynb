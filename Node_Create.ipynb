{
 "cells": [
  {
   "cell_type": "code",
   "execution_count": 6,
   "metadata": {},
   "outputs": [],
   "source": [
    "from neo4j import GraphDatabase\n",
    "import os\n",
    "\n",
    "def create_issue(driver, owner, repo_name, issue_number, issue_description, issue_body):\n",
    "    with driver.session(database=\"neo4j\") as session:\n",
    "        session.write_transaction(\n",
    "            _create_issue, owner, repo_name, issue_number, issue_description, issue_body\n",
    "        )\n",
    "\n",
    "def _create_issue(tx, owner, repo_name, issue_number, issue_description, issue_body):\n",
    "    query = (\n",
    "        \"MERGE (i:Issue {Owner: $owner, RepoName: $repo_name, IssueNumber: $issue_number}) \"\n",
    "        \"ON CREATE SET i.IssueDescription = $issue_description, i.IssueBody = $issue_body\"\n",
    "    )\n",
    "    tx.run(\n",
    "        query,\n",
    "        owner=owner,\n",
    "        repo_name=repo_name,\n",
    "        issue_number=issue_number,\n",
    "        issue_description=issue_description,\n",
    "        issue_body=issue_body,\n",
    "    )"
   ]
  },
  {
   "cell_type": "code",
   "execution_count": 7,
   "metadata": {},
   "outputs": [],
   "source": [
    "def create_user(driver, github_id):\n",
    "    with driver.session(database=\"neo4j\") as session:\n",
    "        session.write_transaction(_create_user, github_id)\n",
    "\n",
    "def _create_user(tx, github_id):\n",
    "    query = (\n",
    "        \"MERGE (u:User {GithubId: $github_id})\"\n",
    "    )\n",
    "    tx.run(query, github_id=github_id)"
   ]
  },
  {
   "cell_type": "code",
   "execution_count": 8,
   "metadata": {},
   "outputs": [],
   "source": [
    "def create_reaction(driver, reaction_name):\n",
    "    with driver.session(database=\"neo4j\") as session:\n",
    "        session.write_transaction(_create_reaction, reaction_name)\n",
    "\n",
    "def _create_reaction(tx, reaction_name):\n",
    "    query = (\n",
    "        \"MERGE (r:Reaction {ReactionName: $reaction_name})\"\n",
    "    )\n",
    "    tx.run(query, reaction_name=reaction_name)"
   ]
  },
  {
   "cell_type": "code",
   "execution_count": 9,
   "metadata": {},
   "outputs": [],
   "source": [
    "def create_label(driver, label_type):\n",
    "    with driver.session(database=\"neo4j\") as session:\n",
    "        session.write_transaction(_create_label, label_type)\n",
    "\n",
    "def _create_label(tx, label_type):\n",
    "    query = (\n",
    "        \"MERGE (l:Label {LabelType: $label_type})\"\n",
    "    )\n",
    "    tx.run(query, label_type=label_type)"
   ]
  },
  {
   "cell_type": "code",
   "execution_count": 10,
   "metadata": {},
   "outputs": [],
   "source": [
    "def create_milestone(driver, milestone_type):\n",
    "    with driver.session(database=\"neo4j\") as session:\n",
    "        session.write_transaction(_create_milestone, milestone_type)\n",
    "\n",
    "def _create_milestone(tx, milestone_type):\n",
    "    query = (\n",
    "        \"MERGE (m:Milestone {MilestoneType: $milestone_type})\"\n",
    "    )\n",
    "    tx.run(query, milestone_type=milestone_type)"
   ]
  },
  {
   "cell_type": "code",
   "execution_count": 12,
   "metadata": {},
   "outputs": [
    {
     "name": "stderr",
     "output_type": "stream",
     "text": [
      "C:\\Users\\Karan\\AppData\\Local\\Temp\\ipykernel_13452\\2942971731.py:6: DeprecationWarning: write_transaction has been renamed to execute_write\n",
      "  session.write_transaction(\n",
      "C:\\Users\\Karan\\AppData\\Local\\Temp\\ipykernel_13452\\2073445342.py:3: DeprecationWarning: write_transaction has been renamed to execute_write\n",
      "  session.write_transaction(_create_user, github_id)\n",
      "C:\\Users\\Karan\\AppData\\Local\\Temp\\ipykernel_13452\\2073445342.py:3: DeprecationWarning: write_transaction has been renamed to execute_write\n",
      "  session.write_transaction(_create_user, github_id)\n",
      "C:\\Users\\Karan\\AppData\\Local\\Temp\\ipykernel_13452\\2073445342.py:3: DeprecationWarning: write_transaction has been renamed to execute_write\n",
      "  session.write_transaction(_create_user, github_id)\n",
      "C:\\Users\\Karan\\AppData\\Local\\Temp\\ipykernel_13452\\2073445342.py:3: DeprecationWarning: write_transaction has been renamed to execute_write\n",
      "  session.write_transaction(_create_user, github_id)\n",
      "C:\\Users\\Karan\\AppData\\Local\\Temp\\ipykernel_13452\\3136395625.py:3: DeprecationWarning: write_transaction has been renamed to execute_write\n",
      "  session.write_transaction(_create_reaction, reaction_name)\n",
      "C:\\Users\\Karan\\AppData\\Local\\Temp\\ipykernel_13452\\3136395625.py:3: DeprecationWarning: write_transaction has been renamed to execute_write\n",
      "  session.write_transaction(_create_reaction, reaction_name)\n",
      "C:\\Users\\Karan\\AppData\\Local\\Temp\\ipykernel_13452\\187880104.py:3: DeprecationWarning: write_transaction has been renamed to execute_write\n",
      "  session.write_transaction(_create_label, label_type)\n",
      "C:\\Users\\Karan\\AppData\\Local\\Temp\\ipykernel_13452\\2534079659.py:3: DeprecationWarning: write_transaction has been renamed to execute_write\n",
      "  session.write_transaction(_create_milestone, milestone_type)\n"
     ]
    }
   ],
   "source": [
    "uri = \"neo4j+s://1b845d2a.databases.neo4j.io\"\n",
    "user = os.environ.get('NEO4J_USERNAME')\n",
    "password = os.environ.get('NEO4J_PASSWORD')\n",
    "\n",
    "driver = GraphDatabase.driver(uri, auth=(user, password))\n",
    "\n",
    "# Issue details\n",
    "owner = \"BigDataIA-Spring2023-Team-04\"\n",
    "repo_name = \"BigDataIA-Assignment-03\"\n",
    "issue_number = 6\n",
    "issue_description = \"Directory Structure: A proper directory structure can be maintained\"\n",
    "issue_body = \"\"\"\n",
    "<img width=\"1430\" alt=\"Screenshot 2023-03-17 at 4 39 40 PM\" src=\"https://user-images.githubusercontent.com/114629181/226044692-5bdc443c-9f92-45de-b26e-30b5f4208154.png\">\n",
    "\n",
    "Expected Behavior:\n",
    "A simple directory structure to refer to codes easily and remember which piece of code is where without much hazzle.\n",
    "\n",
    "Current Behavior:\n",
    "The directory is not properly structured as finding the right files makes the application easier for everyone to use.\n",
    "\n",
    "Possible Solution:\n",
    "Restructuring the directory with appropriate file names and folder names.\n",
    "\n",
    "Steps to Reproduce:\n",
    "As shown in the image, you can make the changes to existing files and directories.\n",
    "\n",
    "Context (Environment):\n",
    "Code\n",
    "\n",
    "Detailed Description:\n",
    "An easy to understand directory structure allows easy testing and implementation of different applications.\n",
    "\n",
    "Possible Implementation:\n",
    "You can refer to our team's directory structure (link shared below) which made the unit testing easier for us. \n",
    "Link: https://github.com/BigDataIA-Spring2023-Team-05/Assignment-03\n",
    "\"\"\"\n",
    "\n",
    "create_issue(driver, owner, repo_name, issue_number, issue_description, issue_body)\n",
    "create_user(driver, \"hindupurv\")\n",
    "create_user(driver, \"KaranAgrawal1509\")\n",
    "create_user(driver, \"LokeshwaranVenugopalBalamurugan\")\n",
    "create_user(driver, \"SivaranjaniSuresh\")\n",
    "create_reaction(driver, \"+1\")\n",
    "create_reaction(driver, \"rocket\")\n",
    "create_label(driver, \"enhancement\")\n",
    "create_milestone(driver, \"Done\")\n",
    "\n",
    "driver.close()"
   ]
  },
  {
   "cell_type": "code",
   "execution_count": null,
   "metadata": {},
   "outputs": [],
   "source": []
  }
 ],
 "metadata": {
  "kernelspec": {
   "display_name": "Python 3",
   "language": "python",
   "name": "python3"
  },
  "language_info": {
   "codemirror_mode": {
    "name": "ipython",
    "version": 3
   },
   "file_extension": ".py",
   "mimetype": "text/x-python",
   "name": "python",
   "nbconvert_exporter": "python",
   "pygments_lexer": "ipython3",
   "version": "3.10.0"
  },
  "orig_nbformat": 4
 },
 "nbformat": 4,
 "nbformat_minor": 2
}
