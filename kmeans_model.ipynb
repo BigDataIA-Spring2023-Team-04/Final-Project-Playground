{
 "cells": [
  {
   "cell_type": "code",
   "execution_count": 1,
   "id": "e1e87d32-2688-4aee-bde4-b7f79d35c65e",
   "metadata": {},
   "outputs": [
    {
     "name": "stderr",
     "output_type": "stream",
     "text": [
      "[nltk_data] Downloading package punkt to\n",
      "[nltk_data]     C:\\Users\\Karan\\AppData\\Roaming\\nltk_data...\n",
      "[nltk_data]   Package punkt is already up-to-date!\n",
      "[nltk_data] Downloading package wordnet to\n",
      "[nltk_data]     C:\\Users\\Karan\\AppData\\Roaming\\nltk_data...\n",
      "[nltk_data]   Package wordnet is already up-to-date!\n",
      "[nltk_data] Downloading package omw-1.4 to\n",
      "[nltk_data]     C:\\Users\\Karan\\AppData\\Roaming\\nltk_data...\n"
     ]
    }
   ],
   "source": [
    "import pandas as pd\n",
    "import numpy as np\n",
    "from sklearn.feature_extraction.text import TfidfVectorizer\n",
    "from sklearn.cluster import KMeans\n",
    "from sklearn.metrics import silhouette_score\n",
    "import nltk\n",
    "\n",
    "nltk.download(\"punkt\")\n",
    "nltk.download(\"wordnet\")\n",
    "nltk.download(\"omw-1.4\")\n",
    "from nltk.corpus import stopwords\n",
    "from nltk.stem import WordNetLemmatizer\n",
    "import re"
   ]
  },
  {
   "cell_type": "code",
   "execution_count": 2,
   "id": "d11daa01-5fea-44ea-80cd-8060fee6d89e",
   "metadata": {},
   "outputs": [],
   "source": [
    "df = pd.read_csv(\"github_issues.csv\")"
   ]
  },
  {
   "cell_type": "code",
   "execution_count": 3,
   "id": "0b6e6384-637e-4421-a39a-fb851cef8cc6",
   "metadata": {},
   "outputs": [],
   "source": [
    "df = df.sample(n=10000)"
   ]
  },
  {
   "cell_type": "code",
   "execution_count": 4,
   "id": "c6a68208-58d1-468d-814f-e576507bf01a",
   "metadata": {},
   "outputs": [],
   "source": [
    "stop_words = set(stopwords.words(\"english\"))\n",
    "lemmatizer = WordNetLemmatizer()\n",
    "\n",
    "\n",
    "def clean_text(text):\n",
    "    # Remove special characters and digits\n",
    "    text = text.replace(\"\\n\", \" \").replace(\"\\r\", \" \")\n",
    "    text = re.sub(r\"[^a-zA-Z\\s]\", \"\", text)\n",
    "    text = re.sub(r\"\\d+\", \"\", text)\n",
    "\n",
    "    # Convert to lowercase\n",
    "    text = text.lower()\n",
    "\n",
    "    # Remove stop words and lemmatize\n",
    "    tokens = nltk.word_tokenize(text)\n",
    "    tokens = [\n",
    "        lemmatizer.lemmatize(token) for token in tokens if token not in stop_words\n",
    "    ]\n",
    "    clean_text = \" \".join(tokens)\n",
    "    return clean_text\n",
    "\n",
    "\n",
    "df[\"clean_text\"] = df[\"body\"].apply(clean_text)"
   ]
  },
  {
   "cell_type": "code",
   "execution_count": 5,
   "id": "ec8c2c66-3cad-47a6-a2dc-240546c0d4b6",
   "metadata": {},
   "outputs": [],
   "source": [
    "vectorizer = TfidfVectorizer()\n",
    "X = vectorizer.fit_transform(df[\"clean_text\"])"
   ]
  },
  {
   "cell_type": "code",
   "execution_count": 6,
   "id": "bd9d93c7-f918-4c45-87ce-7ecf47410bf7",
   "metadata": {},
   "outputs": [
    {
     "name": "stdout",
     "output_type": "stream",
     "text": [
      "Optimal number of clusters: 2\n"
     ]
    }
   ],
   "source": [
    "# Determine optimal number of clusters\n",
    "scores = []\n",
    "for k in range(2, 10):\n",
    "    kmeans = KMeans(n_clusters=k, random_state=42).fit(X)\n",
    "    score = silhouette_score(X, kmeans.labels_)\n",
    "    scores.append(score)\n",
    "\n",
    "optimal_k = np.argmax(scores) + 2  # Add 2 since range starts at 2\n",
    "print(\"Optimal number of clusters:\", optimal_k)"
   ]
  },
  {
   "cell_type": "code",
   "execution_count": 7,
   "id": "5c56264b-87bf-4a13-9890-3d0f9e508712",
   "metadata": {},
   "outputs": [],
   "source": [
    "# Run K-Means clustering\n",
    "kmeans = KMeans(n_clusters=optimal_k, random_state=42).fit(X)\n",
    "\n",
    "# Add cluster labels to dataframe\n",
    "df[\"cluster_label\"] = kmeans.labels_"
   ]
  },
  {
   "cell_type": "code",
   "execution_count": 8,
   "id": "6bc68fe1-0714-4891-88b6-c76decfb12f0",
   "metadata": {},
   "outputs": [],
   "source": [
    "import pickle\n",
    "\n",
    "# Save the model\n",
    "with open(\"kmeans_model.pkl\", \"wb\") as f:\n",
    "    pickle.dump(kmeans, f)"
   ]
  },
  {
   "cell_type": "code",
   "execution_count": null,
   "id": "84060b96-219d-4a7c-88e5-1c7a47be9f62",
   "metadata": {},
   "outputs": [],
   "source": []
  }
 ],
 "metadata": {
  "kernelspec": {
   "display_name": "Python 3 (ipykernel)",
   "language": "python",
   "name": "python3"
  },
  "language_info": {
   "codemirror_mode": {
    "name": "ipython",
    "version": 3
   },
   "file_extension": ".py",
   "mimetype": "text/x-python",
   "name": "python",
   "nbconvert_exporter": "python",
   "pygments_lexer": "ipython3",
   "version": "3.10.0"
  }
 },
 "nbformat": 4,
 "nbformat_minor": 5
}
