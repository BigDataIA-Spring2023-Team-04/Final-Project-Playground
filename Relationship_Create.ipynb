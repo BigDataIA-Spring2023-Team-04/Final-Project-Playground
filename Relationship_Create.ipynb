{
 "cells": [
  {
   "cell_type": "code",
   "execution_count": 64,
   "metadata": {},
   "outputs": [],
   "source": [
    "from neo4j import GraphDatabase\n",
    "import os\n",
    "\n",
    "def create_issue_creator_relationship(driver, user_github_id, issue_owner, issue_repo_name, issue_number):\n",
    "    with driver.session(database=\"neo4j\") as session:\n",
    "        session.write_transaction(\n",
    "            _create_issue_creator_relationship, user_github_id, issue_owner, issue_repo_name, issue_number\n",
    "        )\n",
    "\n",
    "def _create_issue_creator_relationship(tx, user_github_id, issue_owner, issue_repo_name, issue_number):\n",
    "    query = (\n",
    "        \"MATCH (u:User {GithubId: $user_github_id}), \"\n",
    "        \"(i:Issue {Owner: $issue_owner, RepoName: $issue_repo_name, IssueNumber: $issue_number}) \"\n",
    "        \"MERGE (u)-[rel:CREATED]->(i) \"\n",
    "        \"ON CREATE SET rel.uid = u.GithubId + '-' + i.Owner + '-' + i.RepoName + '-' + toString(i.IssueNumber)\"\n",
    "    )\n",
    "    tx.run(\n",
    "        query,\n",
    "        user_github_id=user_github_id,\n",
    "        issue_owner=issue_owner,\n",
    "        issue_repo_name=issue_repo_name,\n",
    "        issue_number=issue_number,\n",
    "    )"
   ]
  },
  {
   "cell_type": "code",
   "execution_count": 65,
   "metadata": {},
   "outputs": [],
   "source": [
    "uri = \"neo4j+s://1b845d2a.databases.neo4j.io\"\n",
    "user = os.environ.get('NEO4J_USERNAME')\n",
    "password = os.environ.get('NEO4J_PASSWORD')\n",
    "driver = GraphDatabase.driver(uri, auth=(user, password))"
   ]
  },
  {
   "cell_type": "code",
   "execution_count": 66,
   "metadata": {},
   "outputs": [
    {
     "name": "stderr",
     "output_type": "stream",
     "text": [
      "C:\\Users\\Karan\\AppData\\Local\\Temp\\ipykernel_7912\\248458065.py:6: DeprecationWarning: write_transaction has been renamed to execute_write\n",
      "  session.write_transaction(\n"
     ]
    }
   ],
   "source": [
    "create_issue_creator_relationship(driver, \"hindupurv\", \"BigDataIA-Spring2023-Team-04\", \"BigDataIA-Assignment-03\", 6)"
   ]
  },
  {
   "cell_type": "code",
   "execution_count": 67,
   "metadata": {},
   "outputs": [],
   "source": [
    "def create_issue_assigner_relationship(driver, assigner_github_id, assignee_github_id, issue_owner, issue_repo_name, issue_number):\n",
    "    with driver.session(database=\"neo4j\") as session:\n",
    "        session.write_transaction(\n",
    "            _create_issue_assigner_relationship, assigner_github_id, assignee_github_id, issue_owner, issue_repo_name, issue_number\n",
    "        )\n",
    "\n",
    "def _create_issue_assigner_relationship(tx, assigner_github_id, assignee_github_id, issue_owner, issue_repo_name, issue_number):\n",
    "    query = (\n",
    "        \"MATCH (u1:User {GithubId: $assigner_github_id}), \"\n",
    "        \"(u2:User {GithubId: $assignee_github_id}), \"\n",
    "        \"(i:Issue {Owner: $issue_owner, RepoName: $issue_repo_name, IssueNumber: $issue_number}) \"\n",
    "        \"MERGE (u1)-[rel:ASSIGNED_ISSUE]->(u2)-[:ASSIGNED_TO]->(i) \"\n",
    "        \"ON CREATE SET rel.uid = u1.GithubId + '-' + u2.GithubId + '-' + i.Owner + '-' + i.RepoName + '-' + toString(i.IssueNumber), rel.Timestamp = timestamp()\"\n",
    "    )\n",
    "    tx.run(\n",
    "        query,\n",
    "        assigner_github_id=assigner_github_id,\n",
    "        assignee_github_id=assignee_github_id,\n",
    "        issue_owner=issue_owner,\n",
    "        issue_repo_name=issue_repo_name,\n",
    "        issue_number=issue_number,\n",
    "    )"
   ]
  },
  {
   "cell_type": "code",
   "execution_count": 68,
   "metadata": {},
   "outputs": [
    {
     "name": "stderr",
     "output_type": "stream",
     "text": [
      "C:\\Users\\Karan\\AppData\\Local\\Temp\\ipykernel_7912\\1287477064.py:3: DeprecationWarning: write_transaction has been renamed to execute_write\n",
      "  session.write_transaction(\n",
      "C:\\Users\\Karan\\AppData\\Local\\Temp\\ipykernel_7912\\1287477064.py:3: DeprecationWarning: write_transaction has been renamed to execute_write\n",
      "  session.write_transaction(\n",
      "C:\\Users\\Karan\\AppData\\Local\\Temp\\ipykernel_7912\\1287477064.py:3: DeprecationWarning: write_transaction has been renamed to execute_write\n",
      "  session.write_transaction(\n"
     ]
    }
   ],
   "source": [
    "create_issue_assigner_relationship(driver, \"KaranAgrawal1509\", \"KaranAgrawal1509\", \"BigDataIA-Spring2023-Team-04\", \"BigDataIA-Assignment-03\", 6)\n",
    "create_issue_assigner_relationship(driver, \"KaranAgrawal1509\", \"LokeshwaranVenugopalBalamurugan\", \"BigDataIA-Spring2023-Team-04\", \"BigDataIA-Assignment-03\", 6)\n",
    "create_issue_assigner_relationship(driver, \"SivaranjaniSuresh\", \"SivaranjaniSuresh\", \"BigDataIA-Spring2023-Team-04\", \"BigDataIA-Assignment-03\", 6)"
   ]
  },
  {
   "cell_type": "code",
   "execution_count": 69,
   "metadata": {},
   "outputs": [],
   "source": [
    "def user_reacted_on_issue(driver, github_id, issue_owner, issue_repo_name, issue_number, reaction_name):\n",
    "    with driver.session(database=\"neo4j\") as session:\n",
    "        session.write_transaction(\n",
    "            _create_user_reaction_relationship, github_id, issue_owner, issue_repo_name, issue_number, reaction_name\n",
    "        )\n",
    "\n",
    "def _create_user_reaction_relationship(tx, github_id, issue_owner, issue_repo_name, issue_number, reaction_name):\n",
    "    query = (\n",
    "        \"MATCH (u:User {GithubId: $github_id}), \"\n",
    "        \"(i:Issue {Owner: $issue_owner, RepoName: $issue_repo_name, IssueNumber: $issue_number}), \"\n",
    "        \"(r:Reaction {ReactionName: $reaction_name}) \"\n",
    "        \"MERGE (u)-[rel:REACTED]->(r)-[:REACTION_ON]->(i) \"\n",
    "        \"ON CREATE SET rel.uid = u.GithubId + '-' + i.Owner + '-' + i.RepoName + '-' + toString(i.IssueNumber) + '-' + r.ReactionName, rel.Timestamp = timestamp()\"\n",
    "    )\n",
    "    tx.run(\n",
    "        query,\n",
    "        github_id=github_id,\n",
    "        issue_owner=issue_owner,\n",
    "        issue_repo_name=issue_repo_name,\n",
    "        issue_number=issue_number,\n",
    "        reaction_name=reaction_name,\n",
    "    )"
   ]
  },
  {
   "cell_type": "code",
   "execution_count": 70,
   "metadata": {},
   "outputs": [
    {
     "name": "stderr",
     "output_type": "stream",
     "text": [
      "C:\\Users\\Karan\\AppData\\Local\\Temp\\ipykernel_7912\\1269380029.py:3: DeprecationWarning: write_transaction has been renamed to execute_write\n",
      "  session.write_transaction(\n",
      "C:\\Users\\Karan\\AppData\\Local\\Temp\\ipykernel_7912\\1269380029.py:3: DeprecationWarning: write_transaction has been renamed to execute_write\n",
      "  session.write_transaction(\n"
     ]
    }
   ],
   "source": [
    "user_reacted_on_issue(driver, \"KaranAgrawal1509\", \"BigDataIA-Spring2023-Team-04\", \"BigDataIA-Assignment-03\", 6, \"+1\")\n",
    "user_reacted_on_issue(driver, \"SivaranjaniSuresh\", \"BigDataIA-Spring2023-Team-04\", \"BigDataIA-Assignment-03\", 6, \"rocket\")"
   ]
  },
  {
   "cell_type": "code",
   "execution_count": 71,
   "metadata": {},
   "outputs": [],
   "source": [
    "def user_added_milestone(driver, github_id, issue_owner, issue_repo_name, issue_number, milestone_type):\n",
    "    with driver.session(database=\"neo4j\") as session:\n",
    "        session.write_transaction(\n",
    "            _create_user_milestone_relationship, github_id, issue_owner, issue_repo_name, issue_number, milestone_type\n",
    "        )\n",
    "\n",
    "def _create_user_milestone_relationship(tx, github_id, issue_owner, issue_repo_name, issue_number, milestone_type):\n",
    "    query = (\n",
    "        \"MATCH (u:User {GithubId: $github_id}), \"\n",
    "        \"(i:Issue {Owner: $issue_owner, RepoName: $issue_repo_name, IssueNumber: $issue_number}), \"\n",
    "        \"(m:Milestone {MilestoneType: $milestone_type}) \"\n",
    "        \"MERGE (u)-[rel:ADDED_MILESTONE]->(m)-[:MILESTONE_ON]->(i) \"\n",
    "        \"ON CREATE SET rel.uid = u.GithubId + '-' + i.Owner + '-' + i.RepoName + '-' + toString(i.IssueNumber) + '-' + m.MilestoneType, rel.Timestamp = timestamp()\"\n",
    "    )\n",
    "    tx.run(\n",
    "        query,\n",
    "        github_id=github_id,\n",
    "        issue_owner=issue_owner,\n",
    "        issue_repo_name=issue_repo_name,\n",
    "        issue_number=issue_number,\n",
    "        milestone_type=milestone_type,\n",
    "    )"
   ]
  },
  {
   "cell_type": "code",
   "execution_count": 72,
   "metadata": {},
   "outputs": [
    {
     "name": "stderr",
     "output_type": "stream",
     "text": [
      "C:\\Users\\Karan\\AppData\\Local\\Temp\\ipykernel_7912\\1586132349.py:3: DeprecationWarning: write_transaction has been renamed to execute_write\n",
      "  session.write_transaction(\n"
     ]
    }
   ],
   "source": [
    "user_added_milestone(driver, \"KaranAgrawal1509\", \"BigDataIA-Spring2023-Team-04\", \"BigDataIA-Assignment-03\", 6, \"Done\")"
   ]
  },
  {
   "cell_type": "code",
   "execution_count": 73,
   "metadata": {},
   "outputs": [],
   "source": [
    "def issue_has_label(driver, issue_owner, issue_repo_name, issue_number, label_type):\n",
    "    with driver.session(database=\"neo4j\") as session:\n",
    "        session.write_transaction(\n",
    "            _create_issue_label_relationship, issue_owner, issue_repo_name, issue_number, label_type\n",
    "        )\n",
    "\n",
    "def _create_issue_label_relationship(tx, issue_owner, issue_repo_name, issue_number, label_type):\n",
    "    query = (\n",
    "        \"MATCH (i:Issue {Owner: $issue_owner, RepoName: $issue_repo_name, IssueNumber: $issue_number}), \"\n",
    "        \"(l:Label {LabelType: $label_type}) \"\n",
    "        \"MERGE (i)-[rel:HAS_LABEL]->(l) \"\n",
    "        \"ON CREATE SET rel.uid = i.Owner + '-' + i.RepoName + '-' + toString(i.IssueNumber) + '-' + l.LabelType\"\n",
    "    )\n",
    "    tx.run(\n",
    "        query,\n",
    "        issue_owner=issue_owner,\n",
    "        issue_repo_name=issue_repo_name,\n",
    "        issue_number=issue_number,\n",
    "        label_type=label_type,\n",
    "    )"
   ]
  },
  {
   "cell_type": "code",
   "execution_count": 74,
   "metadata": {},
   "outputs": [
    {
     "name": "stderr",
     "output_type": "stream",
     "text": [
      "C:\\Users\\Karan\\AppData\\Local\\Temp\\ipykernel_7912\\3555707302.py:3: DeprecationWarning: write_transaction has been renamed to execute_write\n",
      "  session.write_transaction(\n"
     ]
    }
   ],
   "source": [
    "issue_has_label(driver, \"BigDataIA-Spring2023-Team-04\", \"BigDataIA-Assignment-03\", 6, \"enhancement\")"
   ]
  }
 ],
 "metadata": {
  "kernelspec": {
   "display_name": "Python 3",
   "language": "python",
   "name": "python3"
  },
  "language_info": {
   "codemirror_mode": {
    "name": "ipython",
    "version": 3
   },
   "file_extension": ".py",
   "mimetype": "text/x-python",
   "name": "python",
   "nbconvert_exporter": "python",
   "pygments_lexer": "ipython3",
   "version": "3.10.0"
  },
  "orig_nbformat": 4
 },
 "nbformat": 4,
 "nbformat_minor": 2
}
